{
 "cells": [
  {
   "cell_type": "code",
   "execution_count": 1,
   "metadata": {},
   "outputs": [
    {
     "name": "stdout",
     "output_type": "stream",
     "text": [
      "[[1 0 0 0 0]\n",
      " [0 2 0 0 0]\n",
      " [0 0 3 0 0]\n",
      " [0 0 0 4 0]\n",
      " [0 0 0 0 5]]\n"
     ]
    }
   ],
   "source": [
    "#Create a 5x5 matrix with values 1,2,3,4 just below the diagonal\n",
    "import numpy as np\n",
    "a = np.diag([1, 2, 3, 4, 5])\n",
    "print(a)"
   ]
  },
  {
   "cell_type": "code",
   "execution_count": 2,
   "metadata": {},
   "outputs": [
    {
     "name": "stdout",
     "output_type": "stream",
     "text": [
      "[[[0.17151836 0.76999084 0.12589278]\n",
      "  [0.31180954 0.44584996 0.82490299]\n",
      "  [0.44123761 0.00342391 0.15982413]]\n",
      "\n",
      " [[0.0685147  0.82001753 0.44673732]\n",
      "  [0.86866038 0.23422161 0.55849842]\n",
      "  [0.7301325  0.45425372 0.12938286]]\n",
      "\n",
      " [[0.92632283 0.865761   0.26340635]\n",
      "  [0.5745461  0.3490399  0.19180275]\n",
      "  [0.21323626 0.19549509 0.09347104]]]\n"
     ]
    }
   ],
   "source": [
    "#Create a 3x3x3 array with random values\n",
    "import numpy as np\n",
    "b = np.random.random((3,3,3))\n",
    "print(b)"
   ]
  },
  {
   "cell_type": "code",
   "execution_count": 4,
   "metadata": {},
   "outputs": [
    {
     "name": "stdout",
     "output_type": "stream",
     "text": [
      "pattern\n",
      "[[0 1 0 1 0 1 0 1]\n",
      " [1 0 1 0 1 0 1 0]\n",
      " [0 1 0 1 0 1 0 1]\n",
      " [1 0 1 0 1 0 1 0]\n",
      " [0 1 0 1 0 1 0 1]\n",
      " [1 0 1 0 1 0 1 0]\n",
      " [0 1 0 1 0 1 0 1]\n",
      " [1 0 1 0 1 0 1 0]]\n"
     ]
    }
   ],
   "source": [
    "#Create a 8x8 matrix and fill it with a checkerboard pattern\n",
    "c = np.ones((3,3))\n",
    "c = np.zeros((8,8),dtype=int)\n",
    "c[1::2,::2] = 1\n",
    "c[::2,1::2] = 1\n",
    "print(\"pattern\")\n",
    "print(c)"
   ]
  },
  {
   "cell_type": "code",
   "execution_count": 5,
   "metadata": {},
   "outputs": [
    {
     "name": "stdout",
     "output_type": "stream",
     "text": [
      "before normalization\n",
      "[[0.63732149 0.36271909 0.78563408]\n",
      " [0.63305703 0.06507382 0.41995079]\n",
      " [0.6567812  0.56245007 0.77150632]]\n",
      "after normalization\n",
      "[[0.79417047 0.41307478 1.        ]\n",
      " [0.78825221 0.         0.49250144]\n",
      " [0.82117682 0.69026322 0.98039337]]\n"
     ]
    }
   ],
   "source": [
    "#Normalize a 5x5 random matrix\n",
    "d= np.random.random((3,3))\n",
    "print(\"before normalization\")\n",
    "print(d)\n",
    "dmax, dmin = d.max(), d.min()\n",
    "d = (d - dmin)/(dmax - dmin)\n",
    "print(\"after normalization\")\n",
    "print(d)"
   ]
  },
  {
   "cell_type": "code",
   "execution_count": 7,
   "metadata": {},
   "outputs": [
    {
     "name": "stdout",
     "output_type": "stream",
     "text": [
      "[ 0 10 40 60]\n",
      "[0, 30, 40]\n",
      "Common values between two arrays\n",
      "[ 0 40]\n"
     ]
    }
   ],
   "source": [
    "#How to find common values between two arrays?\n",
    "arr_1 = np.array([0, 10, 40, 60])\n",
    "print(arr_1)\n",
    "arr_2 = [0, 30, 40]\n",
    "print(arr_2)\n",
    "print(\"Common values between two arrays\")\n",
    "print(np.intersect1d(arr_1, arr_2))"
   ]
  },
  {
   "cell_type": "code",
   "execution_count": 8,
   "metadata": {},
   "outputs": [
    {
     "name": "stdout",
     "output_type": "stream",
     "text": [
      "Yestraday date is  2020-07-27\n",
      "Today's date is  2020-07-28\n",
      "Tomorrow's date is  2020-07-29\n"
     ]
    }
   ],
   "source": [
    "#How to get the dates of yesterday, today and tomorrow?\n",
    "y = np.datetime64('today', 'D') - np.timedelta64(1, 'D')\n",
    "print(\"Yestraday date is \",y)\n",
    "today = np.datetime64('today', 'D')\n",
    "print(\"Today's date is \",today)\n",
    "tmrrw  = np.datetime64('today', 'D') + np.timedelta64(1, 'D')\n",
    "print(\"Tomorrow's date is \",tmrrw)"
   ]
  },
  {
   "cell_type": "code",
   "execution_count": 13,
   "metadata": {},
   "outputs": [
    {
     "name": "stdout",
     "output_type": "stream",
     "text": [
      "First array:\n",
      "[0 0]\n",
      "Second array:\n",
      "[0 0]\n",
      "The two arrays are True\n"
     ]
    }
   ],
   "source": [
    "#Consider two random array A and B, check if they are equal\n",
    "x = np.random.randint(0,1,2)\n",
    "print(\"First array:\")\n",
    "print(x)\n",
    "y = np.random.randint(0,1,2)\n",
    "print(\"Second array:\")\n",
    "print(y)\n",
    "array_equal = np.allclose(x,y)\n",
    "print(\"The two arrays are\",array_equal)"
   ]
  },
  {
   "cell_type": "code",
   "execution_count": 14,
   "metadata": {},
   "outputs": [
    {
     "name": "stdout",
     "output_type": "stream",
     "text": [
      "[0.89302268 0.02593541 0.16245411 0.88427156 0.09168993 0.10543718\n",
      " 0.03310005 0.75910952 0.37281969 0.91824097]\n",
      "replaced vector =\n",
      "[0.89302268 0.02593541 0.16245411 0.88427156 0.09168993 0.10543718\n",
      " 0.03310005 0.75910952 0.37281969 0.        ]\n"
     ]
    }
   ],
   "source": [
    "#Create random vector of size 10 and replace the maximum value by 0\n",
    "g = np.random.random(10)\n",
    "print(g)\n",
    "g[g.argmax()] = 0\n",
    "print(\"replaced vector =\")\n",
    "print(g)"
   ]
  },
  {
   "cell_type": "code",
   "execution_count": 17,
   "metadata": {},
   "outputs": [
    {
     "name": "stdout",
     "output_type": "stream",
     "text": [
      "[0 1 2 3 4 5 6 7 8 9]\n"
     ]
    }
   ],
   "source": [
    "#How to print all the values of an array?\n",
    "myarr = np.arange(10)\n",
    "np.set_printoptions(threshold=np.inf)\n",
    "print(myarr)"
   ]
  },
  {
   "cell_type": "code",
   "execution_count": 18,
   "metadata": {},
   "outputs": [
    {
     "name": "stdout",
     "output_type": "stream",
     "text": [
      "[[0.22824656 0.42188277 0.47071758 0.84221744 0.41760812]\n",
      " [0.56677184 0.42021395 0.2038501  0.25545275 0.34454335]\n",
      " [0.77480445 0.12234824 0.80305382 0.10444367 0.96988205]\n",
      " [0.7930341  0.27421677 0.25864127 0.53195236 0.44853426]\n",
      " [0.78041185 0.17524423 0.05231458 0.61985602 0.50164093]]\n",
      "\n",
      " subracted mean matrix\n",
      "[[-0.24788794 -0.05425173 -0.00541691  0.36608294 -0.05852637]\n",
      " [ 0.20860544  0.06204755 -0.1543163  -0.10271365 -0.01362305]\n",
      " [ 0.219898   -0.4325582   0.24814737 -0.45046277  0.41497561]\n",
      " [ 0.33175835 -0.18705898 -0.20263448  0.07067661 -0.01274149]\n",
      " [ 0.35451833 -0.25064929 -0.37357894  0.1939625   0.07574741]]\n"
     ]
    }
   ],
   "source": [
    "#Subtract the mean of each row of a matrix\n",
    "X = np.random.rand(5, 5)\n",
    "print(X)\n",
    "print(\"\\n subracted mean matrix\")\n",
    "Y = X - X.mean(axis=1, keepdims=True)\n",
    "print(Y)"
   ]
  },
  {
   "cell_type": "code",
   "execution_count": null,
   "metadata": {},
   "outputs": [],
   "source": []
  }
 ],
 "metadata": {
  "kernelspec": {
   "display_name": "Python 3",
   "language": "python",
   "name": "python3"
  },
  "language_info": {
   "codemirror_mode": {
    "name": "ipython",
    "version": 3
   },
   "file_extension": ".py",
   "mimetype": "text/x-python",
   "name": "python",
   "nbconvert_exporter": "python",
   "pygments_lexer": "ipython3",
   "version": "3.7.6"
  }
 },
 "nbformat": 4,
 "nbformat_minor": 4
}
